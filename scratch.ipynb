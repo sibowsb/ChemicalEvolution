{
 "cells": [
  {
   "cell_type": "code",
   "execution_count": 1,
   "metadata": {},
   "outputs": [],
   "source": [
    "%matplotlib inline\n",
    "import matplotlib.pyplot as plt\n",
    "import numpy as np\n",
    "import sympy\n",
    "from re import findall"
   ]
  },
  {
   "cell_type": "markdown",
   "metadata": {},
   "source": [
    "This notebook develops an ODE solver that follows the evolution of the nine species of $\\rm{H}$, $\\rm{H^+}$, $\\rm{H^-}$, $\\rm{He}$, $\\rm{He^+}$, $\\rm{He^{++}}$, $\\rm{H_2}$, $\\rm{H_2^+}$ and $\\rm{e^-}$. The nine species network include the following reactions ([arXiv:1610.09591](https://arxiv.org/abs/1610.09591)):\n",
    "- ${\\rm H + e^{-}} \\rightarrow \\rm{H^{+} + e^{-} + e^{-}}$\n",
    "- ${\\rm H^{+} + e^{-}} \\rightarrow \\rm{H + \\gamma} $\n",
    "- ${\\rm He + e^{-}} \\rightarrow {\\rm He^{+} + e^{-} + e^{-}}$\n",
    "- ${\\rm He^{+} + e^{-}} \\rightarrow {\\rm He + \\gamma}$\n",
    "- ${\\rm He^{+} + e^{-}} \\rightarrow {\\rm He^{++} + e^{-} + e^{-}}$\n",
    "- ${\\rm He^{++} + e^{-}} \\rightarrow {\\rm He^{+} + \\gamma}$\n",
    "- ${\\rm H + H} \\rightarrow {\\rm H^{+} + e^{-} + H}$\n",
    "- ${\\rm H + He} \\rightarrow {\\rm H^{+} + e^{-} + He}$\n",
    "- ${\\rm H + \\gamma} \\rightarrow {\\rm H^{+} + e^{-}}$\n",
    "- ${\\rm He + \\gamma} \\rightarrow {\\rm He^{+} + e^{-}}$\n",
    "- ${\\rm He^{+} + \\gamma} \\rightarrow {\\rm He^{++} + e^{-}}$\n",
    "- ${\\rm H + e^{-}} \\rightarrow {\\rm H^{-} + \\gamma}$\n",
    "- ${\\rm H^{-} + H} \\rightarrow {\\rm H_{2} + e^{-}}$\n",
    "- ${\\rm H + H^{+}} \\rightarrow {\\rm H_{2}^{+} + \\gamma}$\n",
    "- ${\\rm H_{2}^{+} + H} \\rightarrow {\\rm H_{2} + H^{+}}$\n",
    "- ${\\rm H_{2} + H^{+}} \\rightarrow {\\rm H_{2}^{+} + H}$\n",
    "- ${\\rm H_{2} + e^{-}} \\rightarrow {\\rm H + H + e^{-}}$\n",
    "- ${\\rm H_{2} + H} \\rightarrow {\\rm H + H + H}$\n",
    "- ${\\rm H^{-} + e^{-}} \\rightarrow {\\rm H + e^{-} + e^{-}}$\n",
    "- ${\\rm H^{-} + H} \\rightarrow {\\rm H + e^{-} + H}$\n",
    "- ${\\rm H^{-} + H^{+}} \\rightarrow {\\rm H + H}$\n",
    "- ${\\rm H^{-} + H^{+}} \\rightarrow {\\rm H_{2}^{+} + e^{-}}$\n",
    "- ${\\rm H_{2}^{+} + e^{-}} \\rightarrow {\\rm H + H}$\n",
    "- ${\\rm H_{2}^{+} + H^{-}} \\rightarrow {\\rm H_{2} + H}$\n",
    "- ${\\rm H + H + H} \\rightarrow {\\rm H_{2} + H}$\n",
    "- ${\\rm H + H + H_{2}} \\rightarrow {\\rm H_{2} + H_{2}}$\n",
    "- ${\\rm H^{-} + \\gamma} \\rightarrow {\\rm H + e^{-}}$\n",
    "- ${\\rm H_{2}^{+} + \\gamma} \\rightarrow {\\rm H + H^{+}}$\n",
    "- ${\\rm H_{2} + \\gamma} \\rightarrow {\\rm H_{2}^{+} + e^{-}}$\n",
    "- ${\\rm H_{2}^{+} + \\gamma} \\rightarrow {\\rm H^{+} + H^{+} + e^{-}}$\n",
    "- ${\\rm H_{2} + \\gamma} \\rightarrow {\\rm H + H}$\n",
    "- ${\\rm H + H + grain} \\rightarrow {\\rm H_{2} + grain}$"
   ]
  },
  {
   "cell_type": "code",
   "execution_count": 2,
   "metadata": {},
   "outputs": [],
   "source": [
    "all_species = sympy.sympify(\n",
    "    'H, Hp, Hm, He, Hep, Hepp, H2, H2p, de, gma, grn'\n",
    ")\n",
    "\n",
    "H, Hp, Hm, He, Hep, Hepp, H2, H2p, de, gma, grn = all_species\n",
    "\n",
    "k = sympy.sympify(\n",
    "    'k1, k2, k3, k4, k5, k6, k7, k8, k9, k10, k11, k12, ' \\\n",
    "    'k13, k14, k15, k16, k17, k18, k19, k20, k21, k22, k23, k24, ' \\\n",
    "    'k25, k26, k27, k28, k29, k30, k31, k32'\n",
    ")"
   ]
  },
  {
   "cell_type": "markdown",
   "metadata": {},
   "source": [
    "Generate equations from the paper's $\\LaTeX$ source:"
   ]
  },
  {
   "cell_type": "code",
   "execution_count": 3,
   "metadata": {},
   "outputs": [],
   "source": [
    "source = '''- ${\\rm H + e^{-}} \\rightarrow {\\rm H^{+} + e^{-} + e^{-}}$\n",
    "- ${\\rm H^{+} + e^{-}} \\rightarrow {\\rm H + \\gamma}$\n",
    "- ${\\rm He + e^{-}} \\rightarrow {\\rm He^{+} + e^{-} + e^{-}}$\n",
    "- ${\\rm He^{+} + e^{-}} \\rightarrow {\\rm He + \\gamma}$\n",
    "- ${\\rm He^{+} + e^{-}} \\rightarrow {\\rm He^{++} + e^{-} + e^{-}}$\n",
    "- ${\\rm He^{++} + e^{-}} \\rightarrow {\\rm He^{+} + \\gamma}$\n",
    "- ${\\rm H + H} \\rightarrow {\\rm H^{+} + e^{-} + H}$\n",
    "- ${\\rm H + He} \\rightarrow {\\rm H^{+} + e^{-} + He}$\n",
    "- ${\\rm H + \\gamma} \\rightarrow {\\rm H^{+} + e^{-}}$\n",
    "- ${\\rm He + \\gamma} \\rightarrow {\\rm He^{+} + e^{-}}$\n",
    "- ${\\rm He^{+} + \\gamma} \\rightarrow {\\rm He^{++} + e^{-}}$\n",
    "- ${\\rm H + e^{-}} \\rightarrow {\\rm H^{-} + \\gamma}$\n",
    "- ${\\rm H^{-} + H} \\rightarrow {\\rm H_{2} + e^{-}}$\n",
    "- ${\\rm H + H^{+}} \\rightarrow {\\rm H_{2}^{+} + \\gamma}$\n",
    "- ${\\rm H_{2}^{+} + H} \\rightarrow {\\rm H_{2} + H^{+}}$\n",
    "- ${\\rm H_{2} + H^{+}} \\rightarrow {\\rm H_{2}^{+} + H}$\n",
    "- ${\\rm H_{2} + e^{-}} \\rightarrow {\\rm H + H + e^{-}}$\n",
    "- ${\\rm H_{2} + H} \\rightarrow {\\rm H + H + H}$\n",
    "- ${\\rm H^{-} + e^{-}} \\rightarrow {\\rm H + e^{-} + e^{-}}$\n",
    "- ${\\rm H^{-} + H} \\rightarrow {\\rm H + e^{-} + H}$\n",
    "- ${\\rm H^{-} + H^{+}} \\rightarrow {\\rm H + H}$\n",
    "- ${\\rm H^{-} + H^{+}} \\rightarrow {\\rm H_{2}^{+} + e^{-}}$\n",
    "- ${\\rm H_{2}^{+} + e^{-}} \\rightarrow {\\rm H + H}$\n",
    "- ${\\rm H_{2}^{+} + H^{-}} \\rightarrow {\\rm H_{2} + H}$\n",
    "- ${\\rm H + H + H} \\rightarrow {\\rm H_{2} + H}$\n",
    "- ${\\rm H + H + H_{2}} \\rightarrow {\\rm H_{2} + H_{2}}$\n",
    "- ${\\rm H^{-} + \\gamma} \\rightarrow {\\rm H + e^{-}}$\n",
    "- ${\\rm H_{2}^{+} + \\gamma} \\rightarrow {\\rm H + H^{+}}$\n",
    "- ${\\rm H_{2} + \\gamma} \\rightarrow {\\rm H_{2}^{+} + e^{-}}$\n",
    "- ${\\rm H_{2}^{+} + \\gamma} \\rightarrow {\\rm H^{+} + H^{+} + e^{-}}$\n",
    "- ${\\rm H_{2} + \\gamma} \\rightarrow {\\rm H + H}$\n",
    "- ${\\rm H + H + grain} \\rightarrow {\\rm H_{2} + grain}$'''\n",
    "\n",
    "formulas = findall('\\${\\\\rm (.*)} \\\\rightarrow {\\\\rm (.*)}\\$', source)\n",
    "\n",
    "replace_rules = [('e^{-}', 'de'), ('^{+}', 'p'), ('^{++}', 'pp'), ('^{-}', 'm'), \n",
    "                 ('_{2}', '2'), ('\\\\gamma', 'gma'), ('grain', 'grn')]\n",
    "\n",
    "formulas_clean = []\n",
    "for i in range(len(formulas)):\n",
    "    lhs, rhs = formulas[i]\n",
    "    for latex, plain in replace_rules:\n",
    "        lhs = lhs.replace(latex, plain)\n",
    "        rhs = rhs.replace(latex, plain)\n",
    "    formulas_clean.append((lhs, rhs))\n",
    "\n",
    "all_reactions = [\n",
    "    eval('({lhs}), ({rhs}), k[{i}]'.format(lhs=lhs, rhs=rhs, i=i))\n",
    "    for i, (lhs, rhs) in enumerate(formulas_clean)\n",
    "]"
   ]
  },
  {
   "cell_type": "code",
   "execution_count": 4,
   "metadata": {},
   "outputs": [],
   "source": [
    "# all_reactions = all_reactions[:2]"
   ]
  },
  {
   "cell_type": "code",
   "execution_count": 5,
   "metadata": {},
   "outputs": [],
   "source": [
    "def find_formation(species):\n",
    "    return [rxn for rxn in all_reactions if species in rxn[1].atoms()]\n",
    "\n",
    "def find_destruction(species):\n",
    "    return [rxn for rxn in all_reactions if species in rxn[0].atoms()]"
   ]
  },
  {
   "cell_type": "code",
   "execution_count": 6,
   "metadata": {},
   "outputs": [],
   "source": [
    "def get_rhs(species):\n",
    "    dSdt = 0\n",
    "    for lhs, rhs, coef in find_formation(species):\n",
    "        term = coef\n",
    "        for atom in list(lhs.atoms()):\n",
    "            term *= atom\n",
    "        dSdt += term\n",
    "    for lhs, rhs, coef in find_destruction(species):\n",
    "        term = -coef\n",
    "        for atom in list(lhs.atoms()):\n",
    "            term *= atom\n",
    "        dSdt += term\n",
    "    return dSdt"
   ]
  },
  {
   "cell_type": "code",
   "execution_count": 7,
   "metadata": {},
   "outputs": [],
   "source": [
    "rhs = {species: get_rhs(species) for species in all_species}"
   ]
  },
  {
   "cell_type": "code",
   "execution_count": 8,
   "metadata": {},
   "outputs": [
    {
     "data": {
      "text/plain": [
       "{H: -2*H*H2*k26 - H*H2p*k15 - H*He*k8 - H*Hm*k13 - H*Hp*k14 - H*de*k1 - H*de*k12 - H*gma*k9 - 2*H*grn*k32 + H2*Hp*k16 + H2*de*k17 + H2*gma*k31 + H2p*Hm*k24 + H2p*de*k23 + H2p*gma*k28 + Hm*Hp*k21 + Hm*de*k19 + Hm*gma*k27 + Hp*de*k2,\n",
       " H2: -H*H2*k18 + H*H2p*k15 + H*Hm*k13 + 2*H*grn*k32 + 3*H*k25 - H2*Hp*k16 - H2*de*k17 - H2*gma*k29 - H2*gma*k31 + H2p*Hm*k24,\n",
       " H2p: -H*H2p*k15 + H*Hp*k14 + H2*Hp*k16 + H2*gma*k29 - H2p*Hm*k24 - H2p*de*k23 - H2p*gma*k28 - H2p*gma*k30 + Hm*Hp*k22,\n",
       " He: -He*de*k3 - He*gma*k10 + Hep*de*k4,\n",
       " Hep: He*de*k3 + He*gma*k10 - Hep*de*k4 - Hep*de*k5 - Hep*gma*k11 + Hepp*de*k6,\n",
       " Hepp: Hep*de*k5 + Hep*gma*k11 - Hepp*de*k6,\n",
       " Hm: -H*Hm*k13 - H*Hm*k20 + H*de*k12 - H2p*Hm*k24 - Hm*Hp*k21 - Hm*Hp*k22 - Hm*de*k19 - Hm*gma*k27,\n",
       " Hp: H*H2p*k15 + H*He*k8 - H*Hp*k14 + H*de*k1 + H*gma*k9 + 2*H*k7 - H2*Hp*k16 + H2p*gma*k28 + H2p*gma*k30 - Hm*Hp*k21 - Hm*Hp*k22 - Hp*de*k2,\n",
       " de: H*He*k8 + H*Hm*k13 + H*Hm*k20 - H*de*k12 + H*gma*k9 + 2*H*k7 + H2*gma*k29 - H2p*de*k23 + H2p*gma*k30 + He*gma*k10 - Hep*de*k4 + Hep*gma*k11 - Hepp*de*k6 + Hm*Hp*k22 + Hm*gma*k27 - Hp*de*k2,\n",
       " gma: H*Hp*k14 + H*de*k12 - H*gma*k9 - H2*gma*k29 - H2*gma*k31 - H2p*gma*k28 - H2p*gma*k30 - He*gma*k10 + Hep*de*k4 - Hep*gma*k11 + Hepp*de*k6 - Hm*gma*k27 + Hp*de*k2,\n",
       " grn: 0}"
      ]
     },
     "execution_count": 8,
     "metadata": {},
     "output_type": "execute_result"
    }
   ],
   "source": [
    "rhs"
   ]
  },
  {
   "cell_type": "code",
   "execution_count": null,
   "metadata": {},
   "outputs": [],
   "source": []
  }
 ],
 "metadata": {
  "kernelspec": {
   "display_name": "Python 3",
   "language": "python",
   "name": "python3"
  },
  "language_info": {
   "codemirror_mode": {
    "name": "ipython",
    "version": 3
   },
   "file_extension": ".py",
   "mimetype": "text/x-python",
   "name": "python",
   "nbconvert_exporter": "python",
   "pygments_lexer": "ipython3",
   "version": "3.6.3"
  }
 },
 "nbformat": 4,
 "nbformat_minor": 2
}
