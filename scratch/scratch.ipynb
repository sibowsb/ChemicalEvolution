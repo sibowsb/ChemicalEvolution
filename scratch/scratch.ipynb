{
 "cells": [
  {
   "cell_type": "code",
   "execution_count": 11,
   "metadata": {},
   "outputs": [],
   "source": [
    "%matplotlib inline\n",
    "import matplotlib.pyplot as plt\n",
    "import numpy as np\n",
    "import sympy\n",
    "from re import findall"
   ]
  },
  {
   "cell_type": "markdown",
   "metadata": {},
   "source": [
    "This notebook develops an ODE solver that follows the evolution of the nine species of $\\rm{H}$, $\\rm{H^+}$, $\\rm{H^-}$, $\\rm{He}$, $\\rm{He^+}$, $\\rm{He^{++}}$, $\\rm{H_2}$, $\\rm{H_2^+}$ and $\\rm{e^-}$. The nine species network include the following reactions ([arXiv:1610.09591](https://arxiv.org/abs/1610.09591)):\n",
    "- ${\\rm H + e^{-}} \\rightarrow \\rm{H^{+} + e^{-} + e^{-}}$\n",
    "- ${\\rm H^{+} + e^{-}} \\rightarrow \\rm{H + \\gamma} $\n",
    "- ${\\rm He + e^{-}} \\rightarrow {\\rm He^{+} + e^{-} + e^{-}}$\n",
    "- ${\\rm He^{+} + e^{-}} \\rightarrow {\\rm He + \\gamma}$\n",
    "- ${\\rm He^{+} + e^{-}} \\rightarrow {\\rm He^{++} + e^{-} + e^{-}}$\n",
    "- ${\\rm He^{++} + e^{-}} \\rightarrow {\\rm He^{+} + \\gamma}$\n",
    "- ${\\rm H + H} \\rightarrow {\\rm H^{+} + e^{-} + H}$\n",
    "- ${\\rm H + He} \\rightarrow {\\rm H^{+} + e^{-} + He}$\n",
    "- ${\\rm H + \\gamma} \\rightarrow {\\rm H^{+} + e^{-}}$\n",
    "- ${\\rm He + \\gamma} \\rightarrow {\\rm He^{+} + e^{-}}$\n",
    "- ${\\rm He^{+} + \\gamma} \\rightarrow {\\rm He^{++} + e^{-}}$\n",
    "- ${\\rm H + e^{-}} \\rightarrow {\\rm H^{-} + \\gamma}$\n",
    "- ${\\rm H^{-} + H} \\rightarrow {\\rm H_{2} + e^{-}}$\n",
    "- ${\\rm H + H^{+}} \\rightarrow {\\rm H_{2}^{+} + \\gamma}$\n",
    "- ${\\rm H_{2}^{+} + H} \\rightarrow {\\rm H_{2} + H^{+}}$\n",
    "- ${\\rm H_{2} + H^{+}} \\rightarrow {\\rm H_{2}^{+} + H}$\n",
    "- ${\\rm H_{2} + e^{-}} \\rightarrow {\\rm H + H + e^{-}}$\n",
    "- ${\\rm H_{2} + H} \\rightarrow {\\rm H + H + H}$\n",
    "- ${\\rm H^{-} + e^{-}} \\rightarrow {\\rm H + e^{-} + e^{-}}$\n",
    "- ${\\rm H^{-} + H} \\rightarrow {\\rm H + e^{-} + H}$\n",
    "- ${\\rm H^{-} + H^{+}} \\rightarrow {\\rm H + H}$\n",
    "- ${\\rm H^{-} + H^{+}} \\rightarrow {\\rm H_{2}^{+} + e^{-}}$\n",
    "- ${\\rm H_{2}^{+} + e^{-}} \\rightarrow {\\rm H + H}$\n",
    "- ${\\rm H_{2}^{+} + H^{-}} \\rightarrow {\\rm H_{2} + H}$\n",
    "- ${\\rm H + H + H} \\rightarrow {\\rm H_{2} + H}$\n",
    "- ${\\rm H + H + H_{2}} \\rightarrow {\\rm H_{2} + H_{2}}$\n",
    "- ${\\rm H^{-} + \\gamma} \\rightarrow {\\rm H + e^{-}}$\n",
    "- ${\\rm H_{2}^{+} + \\gamma} \\rightarrow {\\rm H + H^{+}}$\n",
    "- ${\\rm H_{2} + \\gamma} \\rightarrow {\\rm H_{2}^{+} + e^{-}}$\n",
    "- ${\\rm H_{2}^{+} + \\gamma} \\rightarrow {\\rm H^{+} + H^{+} + e^{-}}$\n",
    "- ${\\rm H_{2} + \\gamma} \\rightarrow {\\rm H + H}$\n",
    "- ${\\rm H + H + grain} \\rightarrow {\\rm H_{2} + grain}$"
   ]
  },
  {
   "cell_type": "code",
   "execution_count": 64,
   "metadata": {},
   "outputs": [],
   "source": [
    "all_species = sympy.sympify(\n",
    "    'HI, HII, HM, HeI, HeII, HeIII, H2I, H2II, de, gma, grn'\n",
    ")\n",
    "\n",
    "HI, HII, HM, HeI, HeII, HeIII, H2I, H2II, de, gma, grn = all_species\n",
    "\n",
    "ks = sympy.sympify(\n",
    "    'k1, k2, k3, k4, k5, k6, k7, k8, k9, k10, k11, k12, ' \\\n",
    "    'k13, k14, k15, k16, k17, k18, k19, k20, k21, k22, k23, k24, ' \\\n",
    "    'k25, k26, k27, k28, k29, k30, k31, k32'\n",
    ")"
   ]
  },
  {
   "cell_type": "markdown",
   "metadata": {},
   "source": [
    "Generate equations from the paper's $\\LaTeX$ source:"
   ]
  },
  {
   "cell_type": "code",
   "execution_count": 21,
   "metadata": {},
   "outputs": [
    {
     "name": "stdout",
     "output_type": "stream",
     "text": [
      "HI + de\n",
      "HII + de\n",
      "HeI + de\n",
      "HeII + de\n",
      "HeII + de\n",
      "HeIII + de\n",
      "HI + HI \n",
      "HI + HeI \n",
      "HI + gma\n",
      "HeI + gma\n",
      "HeII + gma\n",
      "HI + de\n",
      "HM + HI \n",
      "HI + HII\n",
      "H2II + HI \n",
      "H2I + HII\n",
      "H2I + de\n",
      "H2I + HI \n",
      "HM + de\n",
      "HM + HI \n",
      "HM + HII\n",
      "HM + HII\n",
      "H2II + de\n",
      "H2II + HM\n",
      "HI + HI + HI \n",
      "HI + HI + H2I\n",
      "HM + gma\n",
      "H2II + gma\n",
      "H2I + gma\n",
      "H2II + gma\n",
      "H2I + gma\n",
      "HI + HI + grn\n"
     ]
    }
   ],
   "source": [
    "source = '''g$'''\n",
    "\n",
    "formulas = findall('\\${\\\\rm (.*)} \\\\rightarrow {\\\\rm (.*)}\\$', \n",
    "                   source.replace('H}', 'H }').replace('He}', 'He }'))\n",
    "\n",
    "replace_rules = [#('e^{-}', 'de'), ('^{+}', 'p'), ('^{++}', 'pp'), ('^{-}', 'm'), \n",
    "                 #('_{2}', '2'), ('\\\\gamma', 'gma'), ('grain', 'grn'),\n",
    "                 ('H^{-}', 'HM'), ('H^{+}', 'HII'), \n",
    "                 ('H_{2}^{+}', 'H2II'), ('H_{2}', 'H2I'), ('H ', 'HI '), \n",
    "                 ('He^{++}', 'HeIII'), ('He^{+}', 'HeII'), ('He ', 'HeI '), \n",
    "                 ('e^{-}', 'de'), ('\\\\gamma', 'gma'), ('grain', 'grn')]\n",
    "\n",
    "formulas_clean = []\n",
    "for i in range(len(formulas)):\n",
    "    lhs, rhs = formulas[i]\n",
    "    for latex, plain in replace_rules:\n",
    "        lhs = lhs.replace(latex, plain)\n",
    "        rhs = rhs.replace(latex, plain)\n",
    "    print(lhs)\n",
    "    formulas_clean.append((lhs, rhs))\n",
    "\n",
    "all_reactions = [\n",
    "    eval('({lhs}), ({rhs}), k[{i}]'.format(lhs=lhs, rhs=rhs, i=i))\n",
    "    for i, (lhs, rhs) in enumerate(formulas_clean)\n",
    "]"
   ]
  },
  {
   "cell_type": "code",
   "execution_count": 22,
   "metadata": {},
   "outputs": [
    {
     "data": {
      "text/plain": [
       "[(HI + de, HII + 2*de, k1),\n",
       " (HII + de, HI + gma, k2),\n",
       " (HeI + de, HeII + 2*de, k3),\n",
       " (HeII + de, HeI + gma, k4),\n",
       " (HeII + de, HeIII + 2*de, k5),\n",
       " (HeIII + de, HeII + gma, k6),\n",
       " (2*HI, HI + HII + de, k7),\n",
       " (HI + HeI, HII + HeI + de, k8),\n",
       " (HI + gma, HII + de, k9),\n",
       " (HeI + gma, HeII + de, k10),\n",
       " (HeII + gma, HeIII + de, k11),\n",
       " (HI + de, HM + gma, k12),\n",
       " (HI + HM, H2I + de, k13),\n",
       " (HI + HII, H2II + gma, k14),\n",
       " (H2II + HI, H2I + HII, k15),\n",
       " (H2I + HII, H2II + HI, k16),\n",
       " (H2I + de, 2*HI + de, k17),\n",
       " (H2I + HI, 3*HI, k18),\n",
       " (HM + de, HI + 2*de, k19),\n",
       " (HI + HM, 2*HI + de, k20),\n",
       " (HII + HM, 2*HI, k21),\n",
       " (HII + HM, H2II + de, k22),\n",
       " (H2II + de, 2*HI, k23),\n",
       " (H2II + HM, H2I + HI, k24),\n",
       " (3*HI, H2I + HI, k25),\n",
       " (H2I + 2*HI, 2*H2I, k26),\n",
       " (HM + gma, HI + de, k27),\n",
       " (H2II + gma, HI + HII, k28),\n",
       " (H2I + gma, H2II + de, k29),\n",
       " (H2II + gma, 2*HII + de, k30),\n",
       " (H2I + gma, 2*HI, k31),\n",
       " (2*HI + grn, H2I + grn, k32)]"
      ]
     },
     "execution_count": 22,
     "metadata": {},
     "output_type": "execute_result"
    }
   ],
   "source": [
    "all_reactions"
   ]
  },
  {
   "cell_type": "code",
   "execution_count": 23,
   "metadata": {},
   "outputs": [],
   "source": [
    "def find_formation(species):\n",
    "    return [rxn for rxn in all_reactions if species in rxn[1].atoms()]\n",
    "\n",
    "def find_destruction(species):\n",
    "    return [rxn for rxn in all_reactions if species in rxn[0].atoms()]"
   ]
  },
  {
   "cell_type": "code",
   "execution_count": 24,
   "metadata": {},
   "outputs": [],
   "source": [
    "def get_rhs(species):\n",
    "    dSdt = 0\n",
    "    for lhs, rhs, coef in find_formation(species):\n",
    "        term = coef\n",
    "        for atom in list(lhs.atoms()):\n",
    "            term *= atom\n",
    "        dSdt += term\n",
    "    for lhs, rhs, coef in find_destruction(species):\n",
    "        term = -coef\n",
    "        for atom in list(lhs.atoms()):\n",
    "            term *= atom\n",
    "        dSdt += term\n",
    "    return dSdt"
   ]
  },
  {
   "cell_type": "code",
   "execution_count": 66,
   "metadata": {},
   "outputs": [
    {
     "data": {
      "text/plain": [
       "{H2I: -H2I*HI*k18 - H2I*HII*k16 - H2I*de*k17 - H2I*gma*k29 - H2I*gma*k31 + H2II*HI*k15 + H2II*HM*k24 + HI*HM*k13 + 2*HI*grn*k32 + 3*HI*k25,\n",
       " H2II: H2I*HII*k16 + H2I*gma*k29 - H2II*HI*k15 - H2II*HM*k24 - H2II*de*k23 - H2II*gma*k28 - H2II*gma*k30 + HI*HII*k14 + HII*HM*k22,\n",
       " HI: -2*H2I*HI*k26 + H2I*HII*k16 + H2I*de*k17 + H2I*gma*k31 - H2II*HI*k15 + H2II*HM*k24 + H2II*de*k23 + H2II*gma*k28 - HI*HII*k14 - HI*HM*k13 - HI*HeI*k8 - HI*de*k1 - HI*de*k12 - HI*gma*k9 - 2*HI*grn*k32 + HII*HM*k21 + HII*de*k2 + HM*de*k19 + HM*gma*k27,\n",
       " HII: -H2I*HII*k16 + H2II*HI*k15 + H2II*gma*k28 + H2II*gma*k30 - HI*HII*k14 + HI*HeI*k8 + HI*de*k1 + HI*gma*k9 + 2*HI*k7 - HII*HM*k21 - HII*HM*k22 - HII*de*k2,\n",
       " HM: -H2II*HM*k24 - HI*HM*k13 - HI*HM*k20 + HI*de*k12 - HII*HM*k21 - HII*HM*k22 - HM*de*k19 - HM*gma*k27,\n",
       " HeI: -HeI*de*k3 - HeI*gma*k10 + HeII*de*k4,\n",
       " HeII: HeI*de*k3 + HeI*gma*k10 - HeII*de*k4 - HeII*de*k5 - HeII*gma*k11 + HeIII*de*k6,\n",
       " HeIII: HeII*de*k5 + HeII*gma*k11 - HeIII*de*k6,\n",
       " de: H2I*gma*k29 - H2II*de*k23 + H2II*gma*k30 + HI*HM*k13 + HI*HM*k20 + HI*HeI*k8 - HI*de*k12 + HI*gma*k9 + 2*HI*k7 + HII*HM*k22 - HII*de*k2 + HM*gma*k27 + HeI*gma*k10 - HeII*de*k4 + HeII*gma*k11 - HeIII*de*k6,\n",
       " gma: -H2I*gma*k29 - H2I*gma*k31 - H2II*gma*k28 - H2II*gma*k30 + HI*HII*k14 + HI*de*k12 - HI*gma*k9 + HII*de*k2 - HM*gma*k27 - HeI*gma*k10 + HeII*de*k4 - HeII*gma*k11 + HeIII*de*k6,\n",
       " grn: 0}"
      ]
     },
     "execution_count": 66,
     "metadata": {},
     "output_type": "execute_result"
    }
   ],
   "source": [
    "all_rhs = {species: get_rhs(species) for species in all_species}\n",
    "all_rhs"
   ]
  },
  {
   "cell_type": "code",
   "execution_count": 56,
   "metadata": {},
   "outputs": [],
   "source": [
    "def calc_rate(T, rx):\n",
    "    T_eV = T / 11605.\n",
    "    log_T = np.log(T)\n",
    "    log_T_eV = np.log(T_eV)\n",
    "    if rx == 1:\n",
    "        rate = np.exp(- 32.71396786375 \\\n",
    "                      + 13.53655609057 * log_T_eV \\\n",
    "                      - 5.739328757388 * log_T_eV ** 2 \\\n",
    "                      + 1.563154982022 * log_T_eV ** 3 \\\n",
    "                      - 0.2877056004391 * log_T_eV ** 4 \\\n",
    "                      + 0.03482559773736999 * log_T_eV ** 5 \\\n",
    "                      - 0.00263197617559 * log_T_eV ** 6 \\\n",
    "                      + 0.0001119543953861 * log_T_eV ** 7 \\\n",
    "                      - 2.039149852002e-6 * log_T_eV ** 8)\n",
    "    elif rx == 2:\n",
    "        rate = 4.881357e-6 * T **(-1.5) * (1. + 1.14813e2 * T ** (-0.407)) ** (-2.242)\n",
    "    elif rx == 3:\n",
    "        rate = np.exp(- 44.09864886561001 \\\n",
    "                      + 23.91596563469 * log_T_eV \\\n",
    "                      - 10.75323019821 * log_T_eV ** 2 \\\n",
    "                      + 3.058038757198 * log_T_eV ** 3 \\\n",
    "                      - 0.5685118909884001 * log_T_eV ** 4 \\\n",
    "                      + 0.06795391233790001 * log_T_eV ** 5 \\\n",
    "                      - 0.005009056101857001 * log_T_eV ** 6 \\\n",
    "                      + 0.0002067236157507 * log_T_eV ** 7 \\\n",
    "                      - 3.649161410833e-6 * log_T_eV ** 8)\n",
    "    elif rx == 4:\n",
    "        rate = (1.54e-9 * (1. + 0.3 / np.exp(8.099328789667 / T_eV)) / \\\n",
    "                (np.exp(40.49664394833662 / T_eV) * T_eV ** 1.5) \\\n",
    "                + 3.92e-13 / T_eV ** 0.6353)\n",
    "    elif rx == 5:\n",
    "        rate = np.exp(-68.71040990212001\n",
    "                         + 43.93347632635 * log_T_eV\n",
    "                         - 18.48066993568 * log_T_eV ** 2\n",
    "                         + 4.701626486759002 * log_T_eV ** 3\n",
    "                         - 0.7692466334492 * log_T_eV ** 4\n",
    "                         + 0.08113042097303 * log_T_eV ** 5\n",
    "                         - 0.005324020628287001 * log_T_eV ** 6\n",
    "                         + 0.0001975705312221 * log_T_eV ** 7\n",
    "                         - 3.165581065665e-6 * log_T_eV ** 8)\n",
    "\n",
    "    elif rx == 6: \n",
    "        rate = 7.8155e-5 * T ** (-1.5) * (1. + 2.0189e2 * T ** (-0.407)) ** (-2.242)\n",
    "\n",
    "    elif rx == 7:\n",
    "        rate = 3.0e-16 * (T / 3e2) ** 0.95 * np.exp(-T / 9.32e3)\n",
    "\n",
    "    elif rx == 8:\n",
    "        rate = 1.35e-9*(T ** 9.8493e-2 + 3.2852e-1 * T ** 5.5610e-1 + 2.771e-7 * T ** 2.1826) \\\n",
    "        / (1. + 6.191e-3 * T ** 1.0461 + 8.9712e-11 * T ** 3.0424 + 3.2576e-14 * T ** 3.7741)\n",
    "\n",
    "    elif rx == 9:\n",
    "        rate = 2.10e-20 * (T / 30.0) ** (-0.15)\n",
    "\n",
    "    elif rx == 10:\n",
    "        rate = 6.0e-10 * np.ones_like(T)\n",
    "\n",
    "    elif rx == 11:\n",
    "        rate = (np.exp(-21237.15/T) \\\n",
    "                * (- 3.3232183e-07 \\\n",
    "                   + 3.3735382e-07 * log_T \\\n",
    "                   - 1.4491368e-07 * log_T ** 2 \\\n",
    "                   + 3.4172805e-08 * log_T ** 3 \\\n",
    "                   - 4.7813720e-09 * log_T ** 4 \\\n",
    "                   + 3.9731542e-10 * log_T ** 5 \\\n",
    "                   - 1.8171411e-11 * log_T ** 6 \\\n",
    "                   + 3.5311932e-13 * log_T ** 7))\n",
    "\n",
    "    elif rx == 12:\n",
    "        rate = 4.4886e-9 * T ** 0.109127 * np.exp(-101858. / T)\n",
    "    \n",
    "    elif rx == 13:\n",
    "        rate = 1.0670825e-10 * T_eV ** 2.012 / (np.exp(4.463 / T_eV)*(1.+0.2472 * T_eV) ** 3.512)\n",
    "\n",
    "    elif rx == 14:\n",
    "        rate = np.exp(-18.01849334273 \n",
    "                      + 2.360852208681 * log_T_eV\n",
    "                      - 0.2827443061704 * log_T_eV ** 2\n",
    "                      + 0.01623316639567 * log_T_eV ** 3\n",
    "                      - 0.03365012031362999 * log_T_eV ** 4\n",
    "                      + 0.01178329782711 * log_T_eV ** 5\n",
    "                      - 0.001656194699504 * log_T_eV ** 6\n",
    "                      + 0.0001068275202678 * log_T_eV ** 7\n",
    "                      - 2.631285809207e-6 * log_T_eV ** 8)\n",
    "    elif rx == 15:\n",
    "        rate = np.exp(-20.37260896533324 \\\n",
    "                      + 1.139449335841631 * log_T_eV \\\n",
    "                      - 0.1421013521554148 * log_T_eV ** 2 \\\n",
    "                      + 0.00846445538663 * log_T_eV ** 3 \\\n",
    "                      - 0.0014327641212992 * log_T_eV ** 4 \\\n",
    "                      + 0.0002012250284791 * log_T_eV ** 5 \\\n",
    "                      + 0.0000866396324309 * log_T_eV ** 6 \\\n",
    "                      - 0.00002585009680264 * log_T_eV ** 7 \\\n",
    "                      + 2.4555011970392e-6 * log_T_eV ** 8 \\\n",
    "                      - 8.06838246118e-8 * log_T_eV ** 9)\n",
    "\n",
    "    elif rx == 16:\n",
    "        rate = 2.4e-6*(1.+T/2e4)/np.sqrt(T)\n",
    "\n",
    "    elif rx == 17:\n",
    "        rate = 1e-8 * T ** (-0.4)\n",
    "\n",
    "    elif rx == 18:\n",
    "        rate = 1e-8 * np.ones_like(T)\n",
    "\n",
    "    elif rx == 19:\n",
    "        rate = 5e-7 * np.sqrt(100. / T)\n",
    "    \n",
    "    else:\n",
    "        rate = 0 * np.ones_like(T)\n",
    "\n",
    "    return rate"
   ]
  },
  {
   "cell_type": "code",
   "execution_count": 60,
   "metadata": {},
   "outputs": [
    {
     "name": "stderr",
     "output_type": "stream",
     "text": [
      "/home/sibo/.virtualenvs/astro/lib/python3.6/site-packages/ipykernel_launcher.py:12: RuntimeWarning: overflow encountered in exp\n",
      "  if sys.path[0] == '':\n",
      "/home/sibo/.virtualenvs/astro/lib/python3.6/site-packages/ipykernel_launcher.py:46: RuntimeWarning: overflow encountered in exp\n"
     ]
    },
    {
     "data": {
      "text/plain": [
       "(1e-19, 1e-05)"
      ]
     },
     "execution_count": 60,
     "metadata": {},
     "output_type": "execute_result"
    },
    {
     "data": {
      "image/png": "[encoded data removed]",
      "text/plain": [
       "<matplotlib.figure.Figure at 0x7f6ef874a1d0>"
      ]
     },
     "metadata": {},
     "output_type": "display_data"
    }
   ],
   "source": [
    "T = np.logspace(1, 8, 1024)\n",
    "for i, rxn in enumerate(all_reactions):\n",
    "    plt.loglog(T, calc_rate(T, i + 1), label='k%d' % (i + 1))\n",
    "# plt.legend()\n",
    "plt.ylim([1e-19, 1e-5])"
   ]
  },
  {
   "cell_type": "code",
   "execution_count": 65,
   "metadata": {},
   "outputs": [],
   "source": [
    "composition = {species: 1. for species in all_species}\n",
    "comp_hist = [composition]"
   ]
  },
  {
   "cell_type": "code",
   "execution_count": 27,
   "metadata": {},
   "outputs": [],
   "source": [
    "def calc_change(t, reactions, temp):\n",
    "    # Calculate rates\n",
    "    swap_dict = {}\n",
    "    for i, k in range(ks):\n",
    "        swap_dict[k] = calc_rate(1e5, i + 1)\n",
    "    for species in all_species:\n",
    "        swap_dict[species] = comp_hist[-1][species]\n",
    "    new_composition = {}\n",
    "    for species in all_species:\n",
    "        rhs = all_rhs[species]\n",
    "        delta = rhs.subs(swap_dict)\n",
    "        new_composition[species] = comp_hist[-1][species] + delta\n",
    "    "
   ]
  },
  {
   "cell_type": "code",
   "execution_count": null,
   "metadata": {},
   "outputs": [],
   "source": []
  }
 ],
 "metadata": {
  "kernelspec": {
   "display_name": "Python 3",
   "language": "python",
   "name": "python3"
  },
  "language_info": {
   "codemirror_mode": {
    "name": "ipython",
    "version": 3
   },
   "file_extension": ".py",
   "mimetype": "text/x-python",
   "name": "python",
   "nbconvert_exporter": "python",
   "pygments_lexer": "ipython3",
   "version": "3.6.3"
  }
 },
 "nbformat": 4,
 "nbformat_minor": 2
}
